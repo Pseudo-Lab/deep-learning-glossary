{
 "cells": [
  {
   "cell_type": "markdown",
   "metadata": {},
   "source": [
    "HuggingFace 리서치팀에서는 허깅페이스와 다른 딥러닝관련 프로젝트를 한글화 하고 있습니다. 허깅페이스 문서와 딥러닝관련 프로젝트를 번역하는 과정에서 용어를 일관성 있게 번역하기 위해서 사전을 만들고 있습니다. 딥러닝 문서 번역에 관심있는 분들 모두 참가가 가능하니 관심있는 분들의 많은 참여 부탁드립니다."
   ]
  },
  {
   "cell_type": "markdown",
   "metadata": {},
   "source": [
    "# 영어를 한국어로\n",
    "## A\n",
    "\n",
    "| arguments | 인수 | <a href=\"https://huggingface.co/docs/transformers/index\"> <img loading=\"lazy\" alt=\"src: HuggingFace Transformer\" src=\"https://img.shields.io/badge/문서-Huggingface_Transformer-blue\"></a> <a href=\"https://terms.tta.or.kr/dictionary/dictionaryView.do?word_seq=086577-1\"><img loading=\"lazy\" alt=\"src: HuggingFace Transformer\" src=\"https://img.shields.io/badge/참조-green\"></a> |\n",
    "| :--- | :----| :----|\n",
    "\n",
    "<br>\n",
    "\n",
    "| architecture | 아키택처 | <a href=\"https://huggingface.co/docs/transformers/index\"><img loading=\"lazy\" alt=\"src: HuggingFace Transformer\" src=\"https://img.shields.io/badge/문서-Huggingface_Transformer-blue\"></a> <a href=\"\"><img loading=\"lazy\" alt=\"src: HuggingFace Transformer\" src=\"https://img.shields.io/badge/참조-green\"></a> |\n",
    "| :--- | :----| :----|\n",
    "\n",
    "<br>\n",
    "\n",
    "| attention mask | 어텐션 마스크 | <a href=\"https://huggingface.co/docs/transformers/index\"><img loading=\"lazy\" alt=\"src: HuggingFace Transformer\" src=\"https://img.shields.io/badge/문서-Huggingface_Transformer-blue\"></a> <a href=\"\"><img loading=\"lazy\" alt=\"src: HuggingFace Transformer\" src=\"https://img.shields.io/badge/참조-green\"></a> |\n",
    "| :--- | :----| :----|\n",
    "\n",
    "<br>\n",
    "\n",
    "| augmentation  | 증강 | <a href=\"https://huggingface.co/docs/transformers/index\"><img loading=\"lazy\" alt=\"src: HuggingFace Transformer\" src=\"https://img.shields.io/badge/문서-Huggingface_Transformer-blue\"></a> <a href=\"\"><img loading=\"lazy\" alt=\"src: HuggingFace Transformer\" src=\"https://img.shields.io/badge/참조-green\"></a> |\n",
    "| :--- | :----| :----|\n",
    "\n",
    "<br>\n",
    "\n",
    "| autoencoding model  | 오토인코딩 모델 | <a href=\"https://huggingface.co/docs/transformers/index\"><img loading=\"lazy\" alt=\"src: HuggingFace Transformer\" src=\"https://img.shields.io/badge/문서-Huggingface_Transformer-blue\"></a> <a href=\"\"><img loading=\"lazy\" alt=\"src: HuggingFace Transformer\" src=\"https://img.shields.io/badge/참조-green\"></a> |\n",
    "| :--- | :----| :----|\n",
    "\n",
    "<br>\n",
    "\n",
    "| autoregressive model  | 자기회기 모델 | <a href=\"https://huggingface.co/docs/transformers/index\"><img loading=\"lazy\" alt=\"src: HuggingFace Transformer\" src=\"https://img.shields.io/badge/문서-Huggingface_Transformer-blue\"></a> <a href=\"\"><img loading=\"lazy\" alt=\"src: HuggingFace Transformer\" src=\"https://img.shields.io/badge/참조-green\"></a> |\n",
    "| :--- | :----| :----|\n",
    "\n",
    "<br>\n"
   ]
  },
  {
   "cell_type": "markdown",
   "metadata": {},
   "source": [
    "## B\n",
    "\n",
    "| backward   | 역방향 | <a href=\"https://huggingface.co/docs/transformers/index\"><img loading=\"lazy\" alt=\"src: HuggingFace Transformer\" src=\"https://img.shields.io/badge/문서-Huggingface_Transformer-blue\"></a> <a href=\"\"><img loading=\"lazy\" alt=\"src: HuggingFace Transformer\" src=\"https://img.shields.io/badge/참조-green\"></a> |\n",
    "| :--- | :----| :----|\n",
    "\n",
    "<br>\n",
    "\n"
   ]
  },
  {
   "cell_type": "markdown",
   "metadata": {},
   "source": [
    "## C\n",
    "\n",
    "| causal language modeling   | 인과적 언어 모델링 | <a href=\"https://huggingface.co/docs/transformers/index\"><img loading=\"lazy\" alt=\"src: HuggingFace Transformer\" src=\"https://img.shields.io/badge/문서-Huggingface_Transformer-blue\"></a> <a href=\"\"><img loading=\"lazy\" alt=\"src: HuggingFace Transformer\" src=\"https://img.shields.io/badge/참조-green\"></a> |\n",
    "| :--- | :----| :----|\n",
    "\n",
    "<br>\n"
   ]
  },
  {
   "cell_type": "markdown",
   "metadata": {},
   "source": [
    "## D\n",
    "\n",
    "| data collator   | 데이터 콜레이터 | <a href=\"https://huggingface.co/docs/transformers/index\"><img loading=\"lazy\" alt=\"src: HuggingFace Transformer\" src=\"https://img.shields.io/badge/문서-Huggingface_Transformer-blue\"></a> <a href=\"\"><img loading=\"lazy\" alt=\"src: HuggingFace Transformer\" src=\"https://img.shields.io/badge/참조-green\"></a> |\n",
    "| :--- | :----| :----|\n",
    "\n",
    "<br>\n",
    "\n",
    "| dataset    | 데이터 세트 | <a href=\"https://huggingface.co/docs/transformers/index\"><img loading=\"lazy\" alt=\"src: HuggingFace Transformer\" src=\"https://img.shields.io/badge/문서-Huggingface_Transformer-blue\"></a> <a href=\"\"><img loading=\"lazy\" alt=\"src: HuggingFace Transformer\" src=\"https://img.shields.io/badge/참조-green\"></a> |\n",
    "| :--- | :----| :----|\n",
    "\n",
    "<br>\n",
    "\n",
    "\n",
    "## P\n",
    "\n",
    "\n",
    "## R\n",
    "\n",
    "## S\n",
    "\n",
    "\n",
    "## T"
   ]
  },
  {
   "cell_type": "markdown",
   "metadata": {},
   "source": [
    "<br>"
   ]
  },
  {
   "cell_type": "markdown",
   "metadata": {},
   "source": [
    "# References\n",
    "- [구글 머신러닝 용어집](https://developers.google.com/machine-learning/glossary?hl=ko)\n",
    "- [정보통신용어사전](https://terms.tta.or.kr/main.do)"
   ]
  }
 ],
 "metadata": {
  "kernelspec": {
   "display_name": "Python 3",
   "language": "python",
   "name": "python3"
  },
  "language_info": {
   "codemirror_mode": {
    "name": "ipython",
    "version": 3
   },
   "file_extension": ".py",
   "mimetype": "text/x-python",
   "name": "python",
   "nbconvert_exporter": "python",
   "pygments_lexer": "ipython3",
   "version": "3.8.0"
  },
  "widgets": {
   "application/vnd.jupyter.widget-state+json": {
    "state": {},
    "version_major": 2,
    "version_minor": 0
   }
  }
 },
 "nbformat": 4,
 "nbformat_minor": 4
}
