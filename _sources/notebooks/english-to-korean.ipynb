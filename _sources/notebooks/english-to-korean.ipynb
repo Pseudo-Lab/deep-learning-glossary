{
 "cells": [
  {
   "cell_type": "markdown",
   "metadata": {},
   "source": [
    "HuggingFace 리서치팀에서는 허깅페이스와 다른 딥러닝관련 프로젝트를 한글화 하고 있습니다. 허깅페이스 문서와 딥러닝관련 프로젝트를 번역하는 과정에서 용어를 일관성 있게 번역하기 위해서 사전을 만들고 있습니다. 딥러닝 문서 번역에 관심있는 분들 모두 참가가 가능하니 관심있는 분들의 많은 참여 부탁드립니다."
   ]
  },
  {
   "cell_type": "markdown",
   "metadata": {},
   "source": [
    "# 영어를 한국어로\n",
    "## A\n",
    "\n",
    "| arguments | 인수 | <a href=\"https://terms.tta.or.kr/dictionary/dictionaryView.do?word_seq=086577-1\"><img style=float:right loading=\"lazy\" alt=\"src: HuggingFace Transformer\" src=\"https://img.shields.io/badge/참조-green\"></a><a href=\"https://huggingface.co/docs/transformers/index\">  <img style=float:right loading=\"lazy\" alt=\"src: HuggingFace Transformer\" src=\"https://img.shields.io/badge/문서-Huggingface_Transformer-blue\"></a> |\n",
    "| :--- | :----| :----|\n",
    "\n",
    "<br>\n",
    "\n",
    "| architecture | 아키택처 | <a href=\"\"><img style=float:right loading=\"lazy\" alt=\"src: HuggingFace Transformer\" src=\"https://img.shields.io/badge/참조-green\"></a><a href=\"https://huggingface.co/docs/transformers/index\">  <img style=float:right loading=\"lazy\" alt=\"src: HuggingFace Transformer\" src=\"https://img.shields.io/badge/문서-Huggingface_Transformer-blue\"></a> |\n",
    "| :--- | :----| :----|\n",
    "\n",
    "<br>\n",
    "\n",
    "| attention mask | 어텐션 마스크 |  <a href=\"\"><img style=float:right loading=\"lazy\" alt=\"src: HuggingFace Transformer\" src=\"https://img.shields.io/badge/참조-green\"></a><a href=\"https://huggingface.co/docs/transformers/index\">  <img style=float:right loading=\"lazy\" alt=\"src: HuggingFace Transformer\" src=\"https://img.shields.io/badge/문서-Huggingface_Transformer-blue\"></a> |\n",
    "| :--- | :----| :----|\n",
    "\n",
    "<br>\n",
    "\n",
    "| augmentation  | 증강 |  <a href=\"\"><img style=float:right loading=\"lazy\" alt=\"src: HuggingFace Transformer\" src=\"https://img.shields.io/badge/참조-green\"></a><a href=\"https://huggingface.co/docs/transformers/index\">  <img style=float:right loading=\"lazy\" alt=\"src: HuggingFace Transformer\" src=\"https://img.shields.io/badge/문서-Huggingface_Transformer-blue\"></a> |\n",
    "| :--- | :----| :----|\n",
    "\n",
    "<br>\n",
    "\n",
    "| autoencoding model  | 오토인코딩 모델 |  <a href=\"\"><img style=float:right loading=\"lazy\" alt=\"src: HuggingFace Transformer\" src=\"https://img.shields.io/badge/참조-green\"></a><a href=\"https://huggingface.co/docs/transformers/index\">  <img style=float:right loading=\"lazy\" alt=\"src: HuggingFace Transformer\" src=\"https://img.shields.io/badge/문서-Huggingface_Transformer-blue\"></a> |\n",
    "| :--- | :----| :----|\n",
    "\n",
    "<br>\n",
    "\n",
    "| autoregressive model  | 자기회기 모델 |  <a href=\"\"><img style=float:right loading=\"lazy\" alt=\"src: HuggingFace Transformer\" src=\"https://img.shields.io/badge/참조-green\"></a><a href=\"https://huggingface.co/docs/transformers/index\">  <img style=float:right loading=\"lazy\" alt=\"src: HuggingFace Transformer\" src=\"https://img.shields.io/badge/문서-Huggingface_Transformer-blue\"></a> |\n",
    "| :--- | :----| :----|\n",
    "\n",
    "<br>\n"
   ]
  },
  {
   "cell_type": "markdown",
   "metadata": {},
   "source": [
    "## B\n",
    "\n",
    "| backward   | 역방향 | <a href=\"\"><img style=float:right loading=\"lazy\" alt=\"src: HuggingFace Transformer\" src=\"https://img.shields.io/badge/참조-green\"></a><a href=\"https://huggingface.co/docs/transformers/index\">  <img style=float:right loading=\"lazy\" alt=\"src: HuggingFace Transformer\" src=\"https://img.shields.io/badge/문서-Huggingface_Transformer-blue\"></a> |\n",
    "| :--- | :----| :----|\n",
    "\n",
    "<br>\n",
    "\n"
   ]
  },
  {
   "cell_type": "markdown",
   "metadata": {},
   "source": [
    "## C\n",
    "\n",
    "| causal language modeling   | 인과적 언어 모델링 | <a href=\"\"><img style=float:right loading=\"lazy\" alt=\"src: HuggingFace Transformer\" src=\"https://img.shields.io/badge/참조-green\"></a><a href=\"https://huggingface.co/docs/transformers/index\">  <img style=float:right loading=\"lazy\" alt=\"src: HuggingFace Transformer\" src=\"https://img.shields.io/badge/문서-Huggingface_Transformer-blue\"></a> |\n",
    "| :--- | :----| :----|\n",
    "\n",
    "<br>\n",
    "\n",
    "| checkpoint   | 체크포인트(checkpoint) | <a href=\"\"><img style=float:right loading=\"lazy\" alt=\"src: HuggingFace Transformer\" src=\"https://img.shields.io/badge/참조-green\"></a><a href=\"https://huggingface.co/docs/transformers/index\">  <img style=float:right loading=\"lazy\" alt=\"src: HuggingFace Transformer\" src=\"https://img.shields.io/badge/문서-Huggingface_Transformer-blue\"></a> |\n",
    "| :--- | :----| :----|\n",
    "\n",
    "<br>\n",
    "\n",
    "| chunk   | 묶음 | <a href=\"\"><img style=float:right loading=\"lazy\" alt=\"src: HuggingFace Transformer\" src=\"https://img.shields.io/badge/참조-green\"></a><a href=\"https://huggingface.co/docs/transformers/index\">  <img style=float:right loading=\"lazy\" alt=\"src: HuggingFace Transformer\" src=\"https://img.shields.io/badge/문서-Huggingface_Transformer-blue\"></a> |\n",
    "| :--- | :----| :----|\n",
    "\n",
    "<br>\n",
    "\n",
    "| clustering   | 군집화 | <a href=\"\"><img style=float:right loading=\"lazy\" alt=\"src: HuggingFace Transformer\" src=\"https://img.shields.io/badge/참조-green\"></a><a href=\"https://huggingface.co/docs/transformers/index\">  <img style=float:right loading=\"lazy\" alt=\"src: HuggingFace Transformer\" src=\"https://img.shields.io/badge/문서-Huggingface_Transformer-blue\"></a> |\n",
    "| :--- | :----| :----|\n",
    "\n",
    "<br>\n",
    "\n",
    "| computer vision   | 컴퓨터 비전 | <a href=\"\"><img style=float:right loading=\"lazy\" alt=\"src: HuggingFace Transformer\" src=\"https://img.shields.io/badge/참조-green\"></a><a href=\"https://huggingface.co/docs/transformers/index\">  <img style=float:right loading=\"lazy\" alt=\"src: HuggingFace Transformer\" src=\"https://img.shields.io/badge/문서-Huggingface_Transformer-blue\"></a> |\n",
    "| :--- | :----| :----|\n",
    "\n",
    "<br>\n",
    "\n",
    "| convolution   | 합성곱 | <a href=\"\"><img style=float:right loading=\"lazy\" alt=\"src: HuggingFace Transformer\" src=\"https://img.shields.io/badge/참조-green\"></a><a href=\"https://huggingface.co/docs/transformers/index\">  <img style=float:right loading=\"lazy\" alt=\"src: HuggingFace Transformer\" src=\"https://img.shields.io/badge/문서-Huggingface_Transformer-blue\"></a> |\n",
    "| :--- | :----| :----|\n",
    "\n",
    "<br>\n",
    "\n",
    "| crop   | 자르기 | <a href=\"\"><img style=float:right loading=\"lazy\" alt=\"src: HuggingFace Transformer\" src=\"https://img.shields.io/badge/참조-green\"></a><a href=\"https://huggingface.co/docs/transformers/index\">  <img style=float:right loading=\"lazy\" alt=\"src: HuggingFace Transformer\" src=\"https://img.shields.io/badge/문서-Huggingface_Transformer-blue\"></a> |\n",
    "| :--- | :----| :----|\n",
    "\n",
    "<br>\n",
    "\n",
    "| custom   | 사용자정의 | <a href=\"\"><img style=float:right loading=\"lazy\" alt=\"src: HuggingFace Transformer\" src=\"https://img.shields.io/badge/참조-green\"></a><a href=\"https://huggingface.co/docs/transformers/index\">  <img style=float:right loading=\"lazy\" alt=\"src: HuggingFace Transformer\" src=\"https://img.shields.io/badge/문서-Huggingface_Transformer-blue\"></a> |\n",
    "| :--- | :----| :----|\n",
    "\n",
    "<br>"
   ]
  },
  {
   "cell_type": "markdown",
   "metadata": {},
   "source": [
    "## D\n",
    "\n",
    "| data collator   | 데이터 콜레이터 | <a href=\"\"><img style=float:right loading=\"lazy\" alt=\"src: HuggingFace Transformer\" src=\"https://img.shields.io/badge/참조-green\"></a><a href=\"https://huggingface.co/docs/transformers/index\">  <img style=float:right loading=\"lazy\" alt=\"src: HuggingFace Transformer\" src=\"https://img.shields.io/badge/문서-Huggingface_Transformer-blue\"></a> |\n",
    "| :--- | :----| :----|\n",
    "\n",
    "<br>\n",
    "\n",
    "| dataset    | 데이터 세트 | <a href=\"\"><img style=float:right loading=\"lazy\" alt=\"src: HuggingFace Transformer\" src=\"https://img.shields.io/badge/참조-green\"></a><a href=\"https://huggingface.co/docs/transformers/index\">  <img style=float:right loading=\"lazy\" alt=\"src: HuggingFace Transformer\" src=\"https://img.shields.io/badge/문서-Huggingface_Transformer-blue\"></a> |\n",
    "| :--- | :----| :----|\n",
    "\n",
    "<br>\n",
    "\n",
    "| decoder input IDs    | 디코더 입력 ID | <a href=\"\"><img style=float:right loading=\"lazy\" alt=\"src: HuggingFace Transformer\" src=\"https://img.shields.io/badge/참조-green\"></a><a href=\"https://huggingface.co/docs/transformers/index\">  <img style=float:right loading=\"lazy\" alt=\"src: HuggingFace Transformer\" src=\"https://img.shields.io/badge/문서-Huggingface_Transformer-blue\"></a> |\n",
    "| :--- | :----| :----|\n",
    "\n",
    "<br>\n",
    "\n",
    "| decoder model    | 디코더 모델 | <a href=\"\"><img style=float:right loading=\"lazy\" alt=\"src: HuggingFace Transformer\" src=\"https://img.shields.io/badge/참조-green\"></a><a href=\"https://huggingface.co/docs/transformers/index\">  <img style=float:right loading=\"lazy\" alt=\"src: HuggingFace Transformer\" src=\"https://img.shields.io/badge/문서-Huggingface_Transformer-blue\"></a> |\n",
    "| :--- | :----| :----|\n",
    "\n",
    "<br>\n",
    "\n",
    "| directory   | 디렉터리 | <a href=\"\"><img style=float:right loading=\"lazy\" alt=\"src: HuggingFace Transformer\" src=\"https://img.shields.io/badge/참조-green\"></a><a href=\"https://huggingface.co/docs/transformers/index\">  <img style=float:right loading=\"lazy\" alt=\"src: HuggingFace Transformer\" src=\"https://img.shields.io/badge/문서-Huggingface_Transformer-blue\"></a> |\n",
    "| :--- | :----| :----|\n",
    "\n",
    "<br>\n",
    "\n",
    "| distributed training   | 분산 학습 | <a href=\"\"><img style=float:right loading=\"lazy\" alt=\"src: HuggingFace Transformer\" src=\"https://img.shields.io/badge/참조-green\"></a><a href=\"https://huggingface.co/docs/transformers/index\">  <img style=float:right loading=\"lazy\" alt=\"src: HuggingFace Transformer\" src=\"https://img.shields.io/badge/문서-Huggingface_Transformer-blue\"></a> |\n",
    "| :--- | :----| :----|\n",
    "\n",
    "<br>\n",
    "\n",
    "| down stream   | 다운 스트림 | <a href=\"\"><img style=float:right loading=\"lazy\" alt=\"src: HuggingFace Transformer\" src=\"https://img.shields.io/badge/참조-green\"></a><a href=\"https://huggingface.co/docs/transformers/index\">  <img style=float:right loading=\"lazy\" alt=\"src: HuggingFace Transformer\" src=\"https://img.shields.io/badge/문서-Huggingface_Transformer-blue\"></a> |\n",
    "| :--- | :----| :----|\n",
    "\n",
    "<br>\n",
    "\n",
    "\n",
    "\n"
   ]
  },
  {
   "cell_type": "markdown",
   "metadata": {},
   "source": [
    "## E\n",
    "\n",
    "| entity  | 개체 | <a href=\"\"><img style=float:right loading=\"lazy\" alt=\"src: HuggingFace Transformer\" src=\"https://img.shields.io/badge/참조-green\"></a><a href=\"https://huggingface.co/docs/transformers/index\">  <img style=float:right loading=\"lazy\" alt=\"src: HuggingFace Transformer\" src=\"https://img.shields.io/badge/문서-Huggingface_Transformer-blue\"></a> |\n",
    "| :--- | :----| :----|\n",
    "\n",
    "<br>\n",
    "\n",
    "| epoch  | 에폭 | <a href=\"\"><img style=float:right loading=\"lazy\" alt=\"src: HuggingFace Transformer\" src=\"https://img.shields.io/badge/참조-green\"></a><a href=\"https://huggingface.co/docs/transformers/index\">  <img style=float:right loading=\"lazy\" alt=\"src: HuggingFace Transformer\" src=\"https://img.shields.io/badge/문서-Huggingface_Transformer-blue\"></a> |\n",
    "| :--- | :----| :----|\n",
    "\n",
    "<br>\n",
    "\n",
    "| evaluation method  | 평가 방법 | <a href=\"\"><img style=float:right loading=\"lazy\" alt=\"src: HuggingFace Transformer\" src=\"https://img.shields.io/badge/참조-green\"></a><a href=\"https://huggingface.co/docs/transformers/index\">  <img style=float:right loading=\"lazy\" alt=\"src: HuggingFace Transformer\" src=\"https://img.shields.io/badge/문서-Huggingface_Transformer-blue\"></a> |\n",
    "| :--- | :----| :----|\n",
    "\n",
    "<br>\n"
   ]
  },
  {
   "cell_type": "markdown",
   "metadata": {},
   "source": [
    "## F\n",
    "\n",
    "| feature extraction  | 특성 추출 | <a href=\"\"><img style=float:right loading=\"lazy\" alt=\"src: HuggingFace Transformer\" src=\"https://img.shields.io/badge/참조-green\"></a><a href=\"https://huggingface.co/docs/transformers/index\">  <img style=float:right loading=\"lazy\" alt=\"src: HuggingFace Transformer\" src=\"https://img.shields.io/badge/문서-Huggingface_Transformer-blue\"></a> |\n",
    "| :--- | :----| :----|\n",
    "\n",
    "<br>\n",
    "\n",
    "| feature matrix  | 특성 행렬 | <a href=\"\"><img style=float:right loading=\"lazy\" alt=\"src: HuggingFace Transformer\" src=\"https://img.shields.io/badge/참조-green\"></a><a href=\"https://huggingface.co/docs/transformers/index\">  <img style=float:right loading=\"lazy\" alt=\"src: HuggingFace Transformer\" src=\"https://img.shields.io/badge/문서-Huggingface_Transformer-blue\"></a> |\n",
    "| :--- | :----| :----|\n",
    "\n",
    "<br>\n",
    "\n",
    "| fine-tunning  | 미세 조정 | <a href=\"\"><img style=float:right loading=\"lazy\" alt=\"src: HuggingFace Transformer\" src=\"https://img.shields.io/badge/참조-green\"></a><a href=\"https://huggingface.co/docs/transformers/index\">  <img style=float:right loading=\"lazy\" alt=\"src: HuggingFace Transformer\" src=\"https://img.shields.io/badge/문서-Huggingface_Transformer-blue\"></a> |\n",
    "| :--- | :----| :----|\n",
    "\n",
    "<br>\n",
    "\n",
    "| fine-tunning  | 미세 조정 모델 | <a href=\"\"><img style=float:right loading=\"lazy\" alt=\"src: HuggingFace Transformer\" src=\"https://img.shields.io/badge/참조-green\"></a><a href=\"https://huggingface.co/docs/transformers/index\">  <img style=float:right loading=\"lazy\" alt=\"src: HuggingFace Transformer\" src=\"https://img.shields.io/badge/문서-Huggingface_Transformer-blue\"></a> |\n",
    "| :--- | :----| :----|\n",
    "\n",
    "<br>"
   ]
  },
  {
   "cell_type": "markdown",
   "metadata": {},
   "source": [
    "## H\n",
    "\n",
    "| hidden state | 은닉 상태 | <a href=\"\"><img style=float:right loading=\"lazy\" alt=\"src: HuggingFace Transformer\" src=\"https://img.shields.io/badge/참조-green\"></a><a href=\"https://huggingface.co/docs/transformers/index\">  <img style=float:right loading=\"lazy\" alt=\"src: HuggingFace Transformer\" src=\"https://img.shields.io/badge/문서-Huggingface_Transformer-blue\"></a> |\n",
    "| :--- | :----| :----|\n",
    "\n",
    "<br>\n",
    "\n",
    "| hyperparameter | 하이퍼 파라미터 | <a href=\"\"><img style=float:right loading=\"lazy\" alt=\"src: HuggingFace Transformer\" src=\"https://img.shields.io/badge/참조-green\"></a><a href=\"https://huggingface.co/docs/transformers/index\">  <img style=float:right loading=\"lazy\" alt=\"src: HuggingFace Transformer\" src=\"https://img.shields.io/badge/문서-Huggingface_Transformer-blue\"></a> |\n",
    "| :--- | :----| :----|\n",
    "\n",
    "<br>"
   ]
  },
  {
   "cell_type": "markdown",
   "metadata": {},
   "source": [
    "## L\n",
    "\n",
    "| learning | 학습 | <a href=\"\"><img style=float:right loading=\"lazy\" alt=\"src: HuggingFace Transformer\" src=\"https://img.shields.io/badge/참조-green\"></a><a href=\"https://huggingface.co/docs/transformers/index\">  <img style=float:right loading=\"lazy\" alt=\"src: HuggingFace Transformer\" src=\"https://img.shields.io/badge/문서-Huggingface_Transformer-blue\"></a> |\n",
    "| :--- | :----| :----|\n",
    "\n",
    "<br>\n",
    "\n",
    "| load | 가져오다 | <a href=\"\"><img style=float:right loading=\"lazy\" alt=\"src: HuggingFace Transformer\" src=\"https://img.shields.io/badge/참조-green\"></a><a href=\"https://huggingface.co/docs/transformers/index\">  <img style=float:right loading=\"lazy\" alt=\"src: HuggingFace Transformer\" src=\"https://img.shields.io/badge/문서-Huggingface_Transformer-blue\"></a> |\n",
    "| :--- | :----| :----|\n",
    "\n",
    "<br>"
   ]
  },
  {
   "cell_type": "markdown",
   "metadata": {},
   "source": [
    "## M\n",
    "\n",
    "| method | 매소드 | <a href=\"\"><img style=float:right loading=\"lazy\" alt=\"src: HuggingFace Transformer\" src=\"https://img.shields.io/badge/참조-green\"></a><a href=\"https://huggingface.co/docs/transformers/index\">  <img style=float:right loading=\"lazy\" alt=\"src: HuggingFace Transformer\" src=\"https://img.shields.io/badge/문서-Huggingface_Transformer-blue\"></a> |\n",
    "| :--- | :----| :----|\n",
    "\n",
    "<br>"
   ]
  },
  {
   "cell_type": "markdown",
   "metadata": {},
   "source": [
    "## O\n",
    "\n",
    "| optimizer | 옵티마이저 | <a href=\"\"><img style=float:right loading=\"lazy\" alt=\"src: HuggingFace Transformer\" src=\"https://img.shields.io/badge/참조-green\"></a><a href=\"https://huggingface.co/docs/transformers/index\">  <img style=float:right loading=\"lazy\" alt=\"src: HuggingFace Transformer\" src=\"https://img.shields.io/badge/문서-Huggingface_Transformer-blue\"></a> |\n",
    "| :--- | :----| :----|\n",
    "\n",
    "<br>"
   ]
  },
  {
   "cell_type": "markdown",
   "metadata": {},
   "source": [
    "\n",
    "## P\n",
    "\n",
    "| pad (padding) | 패드 (패딩) | <a href=\"\"><img style=float:right loading=\"lazy\" alt=\"src: HuggingFace Transformer\" src=\"https://img.shields.io/badge/참조-green\"></a><a href=\"https://huggingface.co/docs/transformers/index\">  <img style=float:right loading=\"lazy\" alt=\"src: HuggingFace Transformer\" src=\"https://img.shields.io/badge/문서-Huggingface_Transformer-blue\"></a> |\n",
    "| :--- | :----| :----|\n",
    "\n",
    "<br>\n",
    "\n",
    "| parameter | 매개변수 | <a href=\"\"><img style=float:right loading=\"lazy\" alt=\"src: HuggingFace Transformer\" src=\"https://img.shields.io/badge/참조-green\"></a><a href=\"https://huggingface.co/docs/transformers/index\">  <img style=float:right loading=\"lazy\" alt=\"src: HuggingFace Transformer\" src=\"https://img.shields.io/badge/문서-Huggingface_Transformer-blue\"></a> |\n",
    "| :--- | :----| :----|\n",
    "\n",
    "<br>\n",
    "\n"
   ]
  },
  {
   "cell_type": "markdown",
   "metadata": {},
   "source": [
    "## R\n",
    "\n"
   ]
  },
  {
   "cell_type": "markdown",
   "metadata": {},
   "source": [
    "## S\n",
    "| separator | 분할 토큰 | <a href=\"\"><img style=float:right loading=\"lazy\" alt=\"src: HuggingFace Transformer\" src=\"https://img.shields.io/badge/참조-green\"></a><a href=\"https://huggingface.co/docs/transformers/index\">  <img style=float:right loading=\"lazy\" alt=\"src: HuggingFace Transformer\" src=\"https://img.shields.io/badge/문서-Huggingface_Transformer-blue\"></a> |\n",
    "| :--- | :----| :----|\n",
    "\n",
    "<br>\n",
    "\n",
    "| sequence | 시퀀스 | <a href=\"\"><img style=float:right loading=\"lazy\" alt=\"src: HuggingFace Transformer\" src=\"https://img.shields.io/badge/참조-green\"></a><a href=\"https://huggingface.co/docs/transformers/index\">  <img style=float:right loading=\"lazy\" alt=\"src: HuggingFace Transformer\" src=\"https://img.shields.io/badge/문서-Huggingface_Transformer-blue\"></a> |\n",
    "| :--- | :----| :----|\n",
    "\n",
    "<br>\n",
    "\n",
    "| silent error | 조용한 오류 | <a href=\"\"><img style=float:right loading=\"lazy\" alt=\"src: HuggingFace Transformer\" src=\"https://img.shields.io/badge/참조-green\"></a><a href=\"https://huggingface.co/docs/transformers/index\">  <img style=float:right loading=\"lazy\" alt=\"src: HuggingFace Transformer\" src=\"https://img.shields.io/badge/문서-Huggingface_Transformer-blue\"></a> |\n",
    "| :--- | :----| :----|\n",
    "\n",
    "<br>\n",
    "\n"
   ]
  },
  {
   "cell_type": "markdown",
   "metadata": {},
   "source": [
    "## T\n",
    "\n",
    "| token | 토큰 | <a href=\"\"><img style=float:right loading=\"lazy\" alt=\"src: HuggingFace Transformer\" src=\"https://img.shields.io/badge/참조-green\"></a><a href=\"https://huggingface.co/docs/transformers/index\">  <img style=float:right loading=\"lazy\" alt=\"src: HuggingFace Transformer\" src=\"https://img.shields.io/badge/문서-Huggingface_Transformer-blue\"></a> |\n",
    "| :--- | :----| :----|\n",
    "\n",
    "<br>\n",
    "\n",
    "\n",
    "| tokenizer | 토크나이저 | <a href=\"\"><img style=float:right loading=\"lazy\" alt=\"src: HuggingFace Transformer\" src=\"https://img.shields.io/badge/참조-green\"></a><a href=\"https://huggingface.co/docs/transformers/index\">  <img style=float:right loading=\"lazy\" alt=\"src: HuggingFace Transformer\" src=\"https://img.shields.io/badge/문서-Huggingface_Transformer-blue\"></a> |\n",
    "| :--- | :----| :----|\n",
    "\n",
    "<br>\n",
    "\n",
    "| training | 훈련 | <a href=\"\"><img style=float:right loading=\"lazy\" alt=\"src: HuggingFace Transformer\" src=\"https://img.shields.io/badge/참조-green\"></a><a href=\"https://huggingface.co/docs/transformers/index\">  <img style=float:right loading=\"lazy\" alt=\"src: HuggingFace Transformer\" src=\"https://img.shields.io/badge/문서-Huggingface_Transformer-blue\"></a> |\n",
    "| :--- | :----| :----|\n",
    "\n",
    "<br>"
   ]
  },
  {
   "cell_type": "markdown",
   "metadata": {},
   "source": []
  },
  {
   "cell_type": "markdown",
   "metadata": {},
   "source": []
  },
  {
   "cell_type": "markdown",
   "metadata": {},
   "source": []
  },
  {
   "cell_type": "markdown",
   "metadata": {},
   "source": [
    "<br>"
   ]
  },
  {
   "cell_type": "markdown",
   "metadata": {},
   "source": [
    "# References\n",
    "- [구글 머신러닝 용어집](https://developers.google.com/machine-learning/glossary?hl=ko)\n",
    "- [정보통신용어사전](https://terms.tta.or.kr/main.do)"
   ]
  }
 ],
 "metadata": {
  "kernelspec": {
   "display_name": "Python 3",
   "language": "python",
   "name": "python3"
  },
  "language_info": {
   "codemirror_mode": {
    "name": "ipython",
    "version": 3
   },
   "file_extension": ".py",
   "mimetype": "text/x-python",
   "name": "python",
   "nbconvert_exporter": "python",
   "pygments_lexer": "ipython3",
   "version": "3.8.0"
  },
  "widgets": {
   "application/vnd.jupyter.widget-state+json": {
    "state": {},
    "version_major": 2,
    "version_minor": 0
   }
  }
 },
 "nbformat": 4,
 "nbformat_minor": 4
}
