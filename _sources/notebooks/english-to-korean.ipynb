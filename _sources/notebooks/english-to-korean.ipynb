{
 "cells": [
  {
   "cell_type": "markdown",
   "metadata": {},
   "source": [
    "이 문서는 딥러닝에서 사용되는 용어를 일관성 있게 번역하기 위한 사전입니다. HuggingFace 리서치팀에서는 허깅페이스와 다른 딥러닝관련 프로젝트를 한글화 하고 있습니다. 한글화를 진행하며 논의한 딥러닝 한글화 용어사전을 공유합니다. 딥러닝 문서 번역에 관심있는 분들 모두 참가가 가능하니 관심있는 분들의 많은 참여 부탁드립니다."
   ]
  },
  {
   "cell_type": "markdown",
   "metadata": {},
   "source": [
    "# 영어를 한국어로\n",
    "## A\n",
    "- architecture : 아키텍처 ( [참고자료](https://terms.tta.or.kr/dictionary/dictionaryView.do?word_seq=104958-1) )\n",
    "\n",
    "## B\n",
    "To be updated\n",
    "\n",
    "## C\n",
    "To be updated"
   ]
  },
  {
   "cell_type": "markdown",
   "metadata": {},
   "source": [
    "# References\n",
    "- [구글 머신러닝 용어집](https://developers.google.com/machine-learning/glossary?hl=ko)\n",
    "- [정보통신용어사전](https://terms.tta.or.kr/main.do)"
   ]
  }
 ],
 "metadata": {
  "kernelspec": {
   "display_name": "Python 3",
   "language": "python",
   "name": "python3"
  },
  "language_info": {
   "codemirror_mode": {
    "name": "ipython",
    "version": 3
   },
   "file_extension": ".py",
   "mimetype": "text/x-python",
   "name": "python",
   "nbconvert_exporter": "python",
   "pygments_lexer": "ipython3",
   "version": "3.8.0"
  },
  "widgets": {
   "application/vnd.jupyter.widget-state+json": {
    "state": {},
    "version_major": 2,
    "version_minor": 0
   }
  }
 },
 "nbformat": 4,
 "nbformat_minor": 4
}
